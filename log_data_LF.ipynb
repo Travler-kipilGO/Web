{
 "cells": [
  {
   "cell_type": "code",
   "execution_count": 32,
   "metadata": {},
   "outputs": [],
   "source": [
    "import requests\n",
    "import pandas as pd\n",
    "import numpy  as np\n",
    "\n",
    "from random import *\n",
    "from scipy import sparse\n",
    "from scipy.sparse.linalg import spsolve"
   ]
  },
  {
   "cell_type": "code",
   "execution_count": null,
   "metadata": {},
   "outputs": [],
   "source": []
  },
  {
   "cell_type": "code",
   "execution_count": 3,
   "metadata": {},
   "outputs": [],
   "source": [
    "log_data = pd.read_csv('./dataset.ver3/user_log_data.csv')"
   ]
  },
  {
   "cell_type": "code",
   "execution_count": null,
   "metadata": {},
   "outputs": [],
   "source": []
  },
  {
   "cell_type": "markdown",
   "metadata": {},
   "source": [
    "## dataset 만들기"
   ]
  },
  {
   "cell_type": "markdown",
   "metadata": {},
   "source": [
    "## 전처리"
   ]
  },
  {
   "cell_type": "code",
   "execution_count": 4,
   "metadata": {},
   "outputs": [
    {
     "name": "stdout",
     "output_type": "stream",
     "text": [
      "<class 'pandas.core.frame.DataFrame'>\n",
      "Int64Index: 100000 entries, 0 to 99999\n",
      "Data columns (total 5 columns):\n",
      " #   Column       Non-Null Count   Dtype \n",
      "---  ------       --------------   ----- \n",
      " 0   userId       100000 non-null  object\n",
      " 1   contentcode  100000 non-null  int64 \n",
      " 2   contentdes   100000 non-null  object\n",
      " 3   click        100000 non-null  int64 \n",
      " 4   date         100000 non-null  object\n",
      "dtypes: int64(2), object(3)\n",
      "memory usage: 4.6+ MB\n"
     ]
    },
    {
     "data": {
      "text/html": [
       "<div>\n",
       "<style scoped>\n",
       "    .dataframe tbody tr th:only-of-type {\n",
       "        vertical-align: middle;\n",
       "    }\n",
       "\n",
       "    .dataframe tbody tr th {\n",
       "        vertical-align: top;\n",
       "    }\n",
       "\n",
       "    .dataframe thead th {\n",
       "        text-align: right;\n",
       "    }\n",
       "</style>\n",
       "<table border=\"1\" class=\"dataframe\">\n",
       "  <thead>\n",
       "    <tr style=\"text-align: right;\">\n",
       "      <th></th>\n",
       "      <th>contentcode</th>\n",
       "      <th>click</th>\n",
       "    </tr>\n",
       "  </thead>\n",
       "  <tbody>\n",
       "    <tr>\n",
       "      <th>count</th>\n",
       "      <td>1.000000e+05</td>\n",
       "      <td>100000.000000</td>\n",
       "    </tr>\n",
       "    <tr>\n",
       "      <th>mean</th>\n",
       "      <td>1.362862e+06</td>\n",
       "      <td>1.996840</td>\n",
       "    </tr>\n",
       "    <tr>\n",
       "      <th>std</th>\n",
       "      <td>1.043626e+06</td>\n",
       "      <td>0.817103</td>\n",
       "    </tr>\n",
       "    <tr>\n",
       "      <th>min</th>\n",
       "      <td>1.252660e+05</td>\n",
       "      <td>1.000000</td>\n",
       "    </tr>\n",
       "    <tr>\n",
       "      <th>25%</th>\n",
       "      <td>1.346540e+05</td>\n",
       "      <td>1.000000</td>\n",
       "    </tr>\n",
       "    <tr>\n",
       "      <th>50%</th>\n",
       "      <td>1.496551e+06</td>\n",
       "      <td>2.000000</td>\n",
       "    </tr>\n",
       "    <tr>\n",
       "      <th>75%</th>\n",
       "      <td>2.569365e+06</td>\n",
       "      <td>3.000000</td>\n",
       "    </tr>\n",
       "    <tr>\n",
       "      <th>max</th>\n",
       "      <td>2.714351e+06</td>\n",
       "      <td>3.000000</td>\n",
       "    </tr>\n",
       "  </tbody>\n",
       "</table>\n",
       "</div>"
      ],
      "text/plain": [
       "        contentcode          click\n",
       "count  1.000000e+05  100000.000000\n",
       "mean   1.362862e+06       1.996840\n",
       "std    1.043626e+06       0.817103\n",
       "min    1.252660e+05       1.000000\n",
       "25%    1.346540e+05       1.000000\n",
       "50%    1.496551e+06       2.000000\n",
       "75%    2.569365e+06       3.000000\n",
       "max    2.714351e+06       3.000000"
      ]
     },
     "execution_count": 4,
     "metadata": {},
     "output_type": "execute_result"
    }
   ],
   "source": [
    "# 1. userId가 USER999인 것을 지워줌 -> 로그인 후 사용하기로 해서 이 과정 쓸모 없어짐.\n",
    "cleaned_log = log_data[log_data['userId'] != 'USER999']\n",
    "cleaned_log.info() # 총 49,947행\n",
    "cleaned_log.describe()"
   ]
  },
  {
   "cell_type": "code",
   "execution_count": 6,
   "metadata": {},
   "outputs": [],
   "source": [
    "item_lookup = log_data[['contentcode','contentdes']].drop_duplicates() # 중복값 처리(unique한 1개의 key만 남기고 나머지 중복은 제거) \n",
    "item_lookup['contentcode'] = item_lookup['contentcode']"
   ]
  },
  {
   "cell_type": "code",
   "execution_count": 7,
   "metadata": {},
   "outputs": [],
   "source": [
    "# matrix가 매우 크기 때문에 Sparse matrix로 바꾸어주어서\n",
    "# zero가 아닌 값들의 위치와 그 값만 저장하도록 메모리 절약!\n",
    "cleaned_log = log_data[['userId','contentcode','click']]\n",
    "grouped_cleaned = cleaned_log.groupby(['userId','contentcode']).sum().reset_index() #reset_index() 행 인덱스 초기화\n",
    "\n",
    "\n",
    "# click한 애들만 뽑기 : 우리 데이터 특성상 무조건 1 이상 임.\n",
    "grouped_purchased = grouped_cleaned[grouped_cleaned['click'] > 0]"
   ]
  },
  {
   "cell_type": "code",
   "execution_count": 12,
   "metadata": {
    "scrolled": true
   },
   "outputs": [],
   "source": [
    "customers = list(np.sort(grouped_purchased['userId'].unique()))\n",
    "products = list (grouped_purchased['contentcode'].unique())\n",
    "quantity = list(grouped_purchased['click'])\n",
    "\n",
    "# cat.code: Return Series of codes as well as the index.\n",
    "rows = grouped_purchased['userId'].astype('category').cat.codes \n",
    "cols = grouped_purchased['contentcode'].astype('category').cat.codes\n",
    "\n",
    "# csr: Compressed Sparse matrix by Row\n",
    "purchase_sparse = sparse.csr_matrix((quantity, (rows, cols)), shape = (len(customers),len(products)))"
   ]
  },
  {
   "cell_type": "code",
   "execution_count": null,
   "metadata": {},
   "outputs": [],
   "source": []
  },
  {
   "cell_type": "code",
   "execution_count": 14,
   "metadata": {},
   "outputs": [
    {
     "data": {
      "text/plain": [
       "99.58127779176105"
      ]
     },
     "execution_count": 14,
     "metadata": {},
     "output_type": "execute_result"
    }
   ],
   "source": [
    "# Sparsity: 얼마나 비어있나?\n",
    "# sparse.nonzero(): Returns a tuple of arrays (row,col) containing the indices of the non-zero elements of the matrix.\n",
    "matrix_size = purchase_sparse.shape[0]* purchase_sparse.shape[1]\n",
    "num_purchases = len(purchase_sparse.nonzero()[0])\n",
    "sparsity = 100 * (1 - (num_purchases / matrix_size))\n",
    "sparsity\n",
    "\n",
    "# 95.06860937855105"
   ]
  },
  {
   "cell_type": "code",
   "execution_count": null,
   "metadata": {},
   "outputs": [],
   "source": []
  },
  {
   "cell_type": "code",
   "execution_count": 17,
   "metadata": {},
   "outputs": [],
   "source": [
    "import random"
   ]
  },
  {
   "cell_type": "code",
   "execution_count": 25,
   "metadata": {},
   "outputs": [],
   "source": [
    "def make_train (matrix, percentage = .2):\n",
    "    '''\n",
    "    -----------------------------------------------------\n",
    "    설명\n",
    "    유저-아이템 행렬 (matrix)에서 \n",
    "    1. 0이상의 값을 가지면 1의 값을 갖도록 binary하게 테스트 데이터를 만들고\n",
    "    2. 훈련 데이터는 원본 행렬에서 percentage 비율만큼 0으로 바뀜\n",
    "    \n",
    "    -----------------------------------------------------\n",
    "    반환\n",
    "    training_set: 훈련 데이터에서 percentage 비율만큼 0으로 바뀐 행렬\n",
    "    test_set:     원본 유저-아이템 행렬의 복사본\n",
    "    user_inds:    훈련 데이터에서 0으로 바뀐 유저의 index\n",
    "    '''\n",
    "    test_set = matrix.copy()\n",
    "    test_set[test_set !=0] = 1 # binary하게 만들기\n",
    "    \n",
    "    training_set = matrix.copy()\n",
    "    nonzero_inds = training_set.nonzero()\n",
    "    nonzero_pairs = list(zip(nonzero_inds[0], nonzero_inds[1]))\n",
    "    \n",
    "    random.seed(0)\n",
    "    num_samples = int(np.ceil(percentage * len(nonzero_pairs)))\n",
    "    samples = random.sample(nonzero_pairs, num_samples)\n",
    "    \n",
    "    user_inds = [index[0] for index in samples]\n",
    "    item_inds = [index[1] for index in samples]\n",
    "    \n",
    "    # eliminate_zeros(): Remove zero entries from the matrix\n",
    "    training_set[user_inds, item_inds] = 0\n",
    "    training_set.eliminate_zeros()\n",
    "    \n",
    "    return training_set, test_set, list(set(user_inds))"
   ]
  },
  {
   "cell_type": "code",
   "execution_count": 19,
   "metadata": {},
   "outputs": [],
   "source": [
    "product_train, product_test, product_users_altered = make_train(purchase_sparse, 0.2)"
   ]
  },
  {
   "cell_type": "code",
   "execution_count": null,
   "metadata": {},
   "outputs": [],
   "source": []
  },
  {
   "cell_type": "markdown",
   "metadata": {},
   "source": [
    "## ALS for Implicit Feedback"
   ]
  },
  {
   "cell_type": "markdown",
   "metadata": {},
   "source": [
    "- 손코딩"
   ]
  },
  {
   "cell_type": "code",
   "execution_count": 28,
   "metadata": {},
   "outputs": [],
   "source": [
    "RandomGenerator = np.random.RandomState(seed=0)\n",
    "new_random_number = RandomGenerator.random(size=10)"
   ]
  },
  {
   "cell_type": "code",
   "execution_count": 29,
   "metadata": {},
   "outputs": [
    {
     "data": {
      "text/plain": [
       "23838"
      ]
     },
     "execution_count": 29,
     "metadata": {},
     "output_type": "execute_result"
    }
   ],
   "source": [
    "conf = (40*product_train) # sparse 행렬 형태를 유지하기 위해서 1을 나중에 더함\n",
    "#pd.DataFrame(conf.todense())\n",
    "num_user = conf.shape[1]\n",
    "num_user"
   ]
  },
  {
   "cell_type": "code",
   "execution_count": 42,
   "metadata": {},
   "outputs": [],
   "source": [
    "def implicit_weighted_ALS(training_set, lambda_val =.1, alpha = 40, n_iter = 10, rank_size = 20, seed = 0):\n",
    "    '''\n",
    "    협업 필터링에 기반한 ALS\n",
    "    -----------------------------------------------------\n",
    "    input\n",
    "    1. training_set : m x n 행렬로, m은 유저 수, n은 아이템 수를 의미. csr 행렬 (희소 행렬) 형태여야 함 \n",
    "    2. lambda_val: ALS의 정규화 term. 이 값을 늘리면 bias는 늘지만 분산은 감소. default값은 0.1\n",
    "    3. alpha: 신뢰 행렬과 관련한 모수 (C_{ui} = 1 + alpha * r_{ui}). 이를 감소시키면 평점 간의 신뢰도의 다양성이 감소\n",
    "    4. n_iter: 반복 횟수. 논문에서는 10~ 15회 정도 설정\n",
    "    5. rank_size: 유저/ 아이템 특성 벡터의 잠재 특성의 개수. 논문에서는 20 ~ 200 사이를 추천하고 있음. 이를 늘리면 과적합 위험성이 있으나 \n",
    "    bias가 감소\n",
    "    6. seed: 난수 생성에 필요한 seed\n",
    "    -----------------------------------------------------\n",
    "    반환\n",
    "    유저와 아이템에 대한 특성 벡터\n",
    "    '''\n",
    "    \n",
    "    # 1. Confidence matrix\n",
    "    # C = 1+ alpha * r_{ui}\n",
    "    conf = (alpha*training_set) # sparse 행렬 형태를 유지하기 위해서 1을 나중에 더함\n",
    "    \n",
    "    num_user = conf.shape[0]\n",
    "    num_item = conf.shape[1]\n",
    "\n",
    "    # X와 Y 초기화\n",
    "    rstate = np.random.RandomState(seed)\n",
    "    X = sparse.csr_matrix(rstate.normal(size = (num_user, rank_size)))\n",
    "    Y = sparse.csr_matrix(rstate.normal(size = (num_item, rank_size)))\n",
    "    # sparse.eye: Sparse matrix with ones on diagonal \n",
    "    X_eye = sparse.eye(num_user)\n",
    "    Y_eye = sparse.eye(num_item)\n",
    "    \n",
    "    # 정규화 term: 𝝀I\n",
    "    lambda_eye = lambda_val * sparse.eye(rank_size)\n",
    "    \n",
    "    # 반복 시작\n",
    "    for i in range(n_iter):\n",
    "        yTy = Y.T.dot(Y)\n",
    "        xTx = X.T.dot(X)\n",
    "        \n",
    "        # Y를 고정해놓고 X에 대해 반복\n",
    "        # Xu = (yTy + yT(Cu-I)Y + 𝝀I)^{-1} yTCuPu\n",
    "        for u in range(num_user):\n",
    "            conf_samp = conf[u,:].toarray() # Cu\n",
    "            pref = conf_samp.copy()\n",
    "            pref[pref!=0] = 1\n",
    "            # Cu-I: 위에서 conf에 1을 더하지 않았으니까 I를 빼지 않음 \n",
    "            CuI = sparse.diags(conf_samp, [0])\n",
    "            # yT(Cu-I)Y\n",
    "            yTCuIY = Y.T.dot(CuI).dot(Y)\n",
    "            # yTCuPu\n",
    "            yTCupu = Y.T.dot(CuI+Y_eye).dot(pref.T)\n",
    "            \n",
    "            X[u] = spsolve(yTy + yTCuIY + lambda_eye, yTCupu)\n",
    "        \n",
    "        # X를 고정해놓고 Y에 대해 반복\n",
    "        # Yi = (xTx + xT(Cu-I)X + 𝝀I)^{-1} xTCiPi\n",
    "        for i in range(num_item):\n",
    "            conf_samp = conf[:,i].T.toarray()\n",
    "            pref = conf_samp.copy()\n",
    "            pref[pref!=0] = 1\n",
    "            \n",
    "            #Ci-I\n",
    "            CiI = sparse.diags(conf_samp, [0])\n",
    "            # xT(Ci-I)X\n",
    "            xTCiIX = X.T.dot(CiI).dot(X)\n",
    "            # xTCiPi\n",
    "            xTCiPi = X.T.dot(CiI+ X_eye).dot(pref.T)\n",
    "            \n",
    "            Y[i] = spsolve(xTx + xTCiIX + lambda_eye, xTCiPi)\n",
    "            \n",
    "        return X, Y.T"
   ]
  },
  {
   "cell_type": "code",
   "execution_count": 43,
   "metadata": {},
   "outputs": [],
   "source": [
    "user_vecs, item_vecs = implicit_weighted_ALS (product_train\n",
    "                                              , lambda_val = 0.1\n",
    "                                              , alpha = 15\n",
    "                                              , n_iter = 10\n",
    "                                              , rank_size = 20)"
   ]
  },
  {
   "cell_type": "code",
   "execution_count": 44,
   "metadata": {},
   "outputs": [
    {
     "data": {
      "text/plain": [
       "array([-4.00744756e-05,  2.40477817e-05,  1.40552112e-05,  2.37901547e-05,\n",
       "        3.03637466e-05])"
      ]
     },
     "execution_count": 44,
     "metadata": {},
     "output_type": "execute_result"
    }
   ],
   "source": [
    "# 특정한 유저의 예측된 평점을 구하려면 유저 벡터와 아이템 벡터의 내적곱을 하면 됨.\n",
    "first = user_vecs[0].dot(item_vecs).toarray() # 1x3650\n",
    "first[0,:5]"
   ]
  },
  {
   "cell_type": "code",
   "execution_count": null,
   "metadata": {},
   "outputs": [],
   "source": []
  },
  {
   "cell_type": "markdown",
   "metadata": {},
   "source": [
    "## 추천 시스템 평가하기"
   ]
  },
  {
   "cell_type": "code",
   "execution_count": 45,
   "metadata": {},
   "outputs": [],
   "source": [
    "from sklearn import metrics"
   ]
  },
  {
   "cell_type": "code",
   "execution_count": 46,
   "metadata": {},
   "outputs": [],
   "source": [
    "def auc_score (test, predictions):\n",
    "    fpr, tpr, thresholds = metrics.roc_curve(test, predictions)\n",
    "    return metrics.auc(fpr, tpr)"
   ]
  },
  {
   "cell_type": "code",
   "execution_count": 47,
   "metadata": {},
   "outputs": [],
   "source": [
    "def calc_mean_auc(training_set, altered_users, predictions, test_set):\n",
    "    '''\n",
    "    가려진 정보가 있는 유저마다 AUC 평균을 구하는 함수\n",
    "    ----------------------------------------\n",
    "    input\n",
    "    1. training_set: make_train 함수에서 만들어진 훈련 데이터 (일정 비율로 아이템 구매량이 0으로 가려진 데이터)\n",
    "    2. prediction: implicit MF에서 나온 유저/아이템 별로 나온 예측 평점 행렬\n",
    "    3. altered_users: make_train 함수에서 아이템 구매량이 0으로 가려진 유저\n",
    "    4. test_set: make_train함수에서 만든 테스트 데이터\n",
    "    ----------------------------------------\n",
    "    반환\n",
    "    추천시스템 유저의 평균 auc\n",
    "    인기아이템 기반 유저 평균 auc\n",
    "    '''\n",
    "    # 리스트 초기화\n",
    "    store_auc = []\n",
    "    popularity_auc = []\n",
    "    \n",
    "    pop_items = np.array(test_set.sum(axis = 0)).reshape(-1) # 모든 유저의 아이템별 구매횟수 합\n",
    "    item_vecs = predictions[1] # 아이템 latent 벡터\n",
    "    \n",
    "    for user in altered_users:\n",
    "        training_row = training_set[user,:].toarray().reshape(-1) # 유저의 훈련데이터\n",
    "        zero_inds = np.where(training_row == 0) # 가려진 아이템 Index\n",
    "        \n",
    "        # 가려진 아이템에 대한 예측\n",
    "        user_vec = predictions[0][user,:]\n",
    "        pred = user_vec.dot(item_vecs).toarray()[0,zero_inds].reshape(-1)\n",
    "        \n",
    "        # 가려진 아이템에 대한 실제값\n",
    "        actual = test_set[user,:].toarray()[0,zero_inds].reshape(-1) \n",
    "        \n",
    "        # 가려진 아이템에 대한 popularity (구매횟수 합)\n",
    "        pop = pop_items[zero_inds]\n",
    "        \n",
    "        # AUC 계산 \n",
    "        store_auc.append(auc_score(actual, pred))\n",
    "        popularity_auc.append(auc_score(actual,pop))\n",
    "    \n",
    "    return float('%.3f'%np.mean(store_auc)), float('%.3f'%np.mean(popularity_auc))  "
   ]
  },
  {
   "cell_type": "code",
   "execution_count": 48,
   "metadata": {},
   "outputs": [
    {
     "data": {
      "text/plain": [
       "(0.494, 0.629)"
      ]
     },
     "execution_count": 48,
     "metadata": {},
     "output_type": "execute_result"
    }
   ],
   "source": [
    "calc_mean_auc(product_train, product_users_altered, predictions, product_test)\n",
    "# AUC for our recommender system"
   ]
  },
  {
   "cell_type": "markdown",
   "metadata": {},
   "source": [
    "## 추천 예시"
   ]
  },
  {
   "cell_type": "code",
   "execution_count": 49,
   "metadata": {},
   "outputs": [],
   "source": [
    "def get_items_purchased(customer_id, mf_train, customer_list, products_list, item_lookup):\n",
    "    '''\n",
    "    특정 유저가 구매한 목록을 보여주는 함수\n",
    "    ----------------------------------------\n",
    "    INPUT\n",
    "    1. customer_id: 고객 ID\n",
    "    2. mf_train: 훈련 데이터 평점\n",
    "    3. customers_list: 훈련 데이터에 쓰인 고객 목록\n",
    "    4. products_list: 훈련 데이터에 쓰인 아이템 목록\n",
    "    5. item_lookup: 유니크한 아이템 ID와 설명을 담은 테이블\n",
    "    '''\n",
    "    cust_ind = np.where (customer_list == customer_id)[0][0]\n",
    "    purchased_ind = mf_train[cust_ind,:].nonzero()[1]\n",
    "    prod_codes = products_list[purchased_ind]\n",
    "    \n",
    "    return item_lookup[item_lookup.contentcode.isin(prod_codes.tolist())]"
   ]
  },
  {
   "cell_type": "code",
   "execution_count": 50,
   "metadata": {},
   "outputs": [],
   "source": [
    "customers_arr = np.array(customers)\n",
    "products_arr = np.array(products)"
   ]
  },
  {
   "cell_type": "code",
   "execution_count": 54,
   "metadata": {},
   "outputs": [
    {
     "name": "stdout",
     "output_type": "stream",
     "text": [
      "['aabkmf32@google.com' 'abploam6685@google.com' 'adcc3677@google.com'\n",
      " 'adhbx60@google.com' 'adkrx@google.com']\n"
     ]
    }
   ],
   "source": [
    "print(customers_arr[:5])"
   ]
  },
  {
   "cell_type": "code",
   "execution_count": 55,
   "metadata": {},
   "outputs": [
    {
     "data": {
      "text/html": [
       "<div>\n",
       "<style scoped>\n",
       "    .dataframe tbody tr th:only-of-type {\n",
       "        vertical-align: middle;\n",
       "    }\n",
       "\n",
       "    .dataframe tbody tr th {\n",
       "        vertical-align: top;\n",
       "    }\n",
       "\n",
       "    .dataframe thead th {\n",
       "        text-align: right;\n",
       "    }\n",
       "</style>\n",
       "<table border=\"1\" class=\"dataframe\">\n",
       "  <thead>\n",
       "    <tr style=\"text-align: right;\">\n",
       "      <th></th>\n",
       "      <th>contentcode</th>\n",
       "      <th>contentdes</th>\n",
       "    </tr>\n",
       "  </thead>\n",
       "  <tbody>\n",
       "    <tr>\n",
       "      <th>1307</th>\n",
       "      <td>316104</td>\n",
       "      <td>보문사(서울)</td>\n",
       "    </tr>\n",
       "    <tr>\n",
       "      <th>1471</th>\n",
       "      <td>2396801</td>\n",
       "      <td>오랜미래신화미술관</td>\n",
       "    </tr>\n",
       "    <tr>\n",
       "      <th>1975</th>\n",
       "      <td>699587</td>\n",
       "      <td>천안 병천순대거리</td>\n",
       "    </tr>\n",
       "    <tr>\n",
       "      <th>2410</th>\n",
       "      <td>126372</td>\n",
       "      <td>능가사</td>\n",
       "    </tr>\n",
       "    <tr>\n",
       "      <th>2434</th>\n",
       "      <td>662234</td>\n",
       "      <td>순천전통야생차체험관</td>\n",
       "    </tr>\n",
       "    <tr>\n",
       "      <th>...</th>\n",
       "      <td>...</td>\n",
       "      <td>...</td>\n",
       "    </tr>\n",
       "    <tr>\n",
       "      <th>62309</th>\n",
       "      <td>2606232</td>\n",
       "      <td>호미반도 해안둘레길</td>\n",
       "    </tr>\n",
       "    <tr>\n",
       "      <th>77880</th>\n",
       "      <td>1599474</td>\n",
       "      <td>법인정사(김제)</td>\n",
       "    </tr>\n",
       "    <tr>\n",
       "      <th>77958</th>\n",
       "      <td>2611135</td>\n",
       "      <td>내원암 계곡</td>\n",
       "    </tr>\n",
       "    <tr>\n",
       "      <th>88595</th>\n",
       "      <td>134248</td>\n",
       "      <td>초가원가든</td>\n",
       "    </tr>\n",
       "    <tr>\n",
       "      <th>89110</th>\n",
       "      <td>129580</td>\n",
       "      <td>봉강사</td>\n",
       "    </tr>\n",
       "  </tbody>\n",
       "</table>\n",
       "<p>82 rows × 2 columns</p>\n",
       "</div>"
      ],
      "text/plain": [
       "       contentcode  contentdes\n",
       "1307        316104     보문사(서울)\n",
       "1471       2396801   오랜미래신화미술관\n",
       "1975        699587   천안 병천순대거리\n",
       "2410        126372         능가사\n",
       "2434        662234  순천전통야생차체험관\n",
       "...            ...         ...\n",
       "62309      2606232  호미반도 해안둘레길\n",
       "77880      1599474    법인정사(김제)\n",
       "77958      2611135      내원암 계곡\n",
       "88595       134248       초가원가든\n",
       "89110       129580         봉강사\n",
       "\n",
       "[82 rows x 2 columns]"
      ]
     },
     "execution_count": 55,
     "metadata": {},
     "output_type": "execute_result"
    }
   ],
   "source": [
    "get_items_purchased('aabkmf32@google.com', product_train, customers_arr, products_arr, item_lookup)"
   ]
  },
  {
   "cell_type": "code",
   "execution_count": null,
   "metadata": {},
   "outputs": [],
   "source": []
  },
  {
   "cell_type": "code",
   "execution_count": 56,
   "metadata": {},
   "outputs": [],
   "source": [
    "from sklearn.preprocessing import MinMaxScaler\n",
    "from sklearn.preprocessing import MaxAbsScaler"
   ]
  },
  {
   "cell_type": "code",
   "execution_count": 57,
   "metadata": {},
   "outputs": [
    {
     "data": {
      "text/plain": [
       "array([23358, 22794, 12014, 23473, 23468])"
      ]
     },
     "execution_count": 57,
     "metadata": {},
     "output_type": "execute_result"
    }
   ],
   "source": [
    "# pd.DataFrame(user_vecs[0,:].todense()) #1 X 20\n",
    "# pd.DataFrame(item_vecs.todense()) # 20 X 995\n",
    "# rec_vector = user_vecs[cust_ind,:].dot(item_vecs)\n",
    "# pd.DataFrame(rec_vector.todense()) # 1 X 995\n",
    "\n",
    "#pd.DataFrame(user_vecs.todense())\n",
    "\n",
    "pref_vec = product_train[0,:].toarray() # Get the ratings from the training set ratings matrix\n",
    "pref_vec = pref_vec.reshape(-1) + 1 # Add 1 to everything, so that items not purchased yet become equal to 1\n",
    "pref_vec[pref_vec > 1] = 0 # Make everything already purchased zero\n",
    "rec_vector = user_vecs[0,:].dot(item_vecs) # Get dot product of user vector and all item vectors\n",
    "rec_vector = rec_vector.toarray()\n",
    "\n",
    "# Scale this recommendation vector between 0 and 1\n",
    "min_max = MinMaxScaler()\n",
    "rec_vector_scaled = min_max.fit_transform(rec_vector.reshape(-1,1))[:,0] \n",
    "\n",
    "recommend_vector = pref_vec*rec_vector_scaled\n",
    "#print(recommend_vector)\n",
    "\n",
    "product_idx = np.argsort(recommend_vector)[::-1][:5]\n",
    "product_idx"
   ]
  },
  {
   "cell_type": "code",
   "execution_count": 58,
   "metadata": {},
   "outputs": [],
   "source": [
    "def rec_items(customer_id, mf_train, user_vecs, item_vecs, customer_list, item_list, item_lookup, num_items = 10):\n",
    "    '''\n",
    "    유저의 추천 아이템 반환\n",
    "    -----------------------------------------------------\n",
    "    INPUT\n",
    "    1. customer_id - Input the customer's id number that you want to get recommendations for\n",
    "    2. mf_train: 훈련 데이터\n",
    "    3. user_vecs: 행렬 분해에 쓰인 유저 벡터\n",
    "    4. item_vecs: 행렬 분해에 쓰인 아이템 벡터\n",
    "    5. customer_list: 평점 행렬의 행에 해당하는 고객 ID\n",
    "    6. item_list: 평점 행렬의 열에 해당하는 아이템 ID\n",
    "    7. item_lookup: 아이템 ID와 설명을 담은 테이블\n",
    "    8. num_items: 추천할 아이템 개수\n",
    "    -----------------------------------------------------\n",
    "    반환    \n",
    "    구매한 적이 없는 아이템 중 예측 평점이 높은 최고 n개의 추천 아이템\n",
    "    '''\n",
    "    \n",
    "    pref_vec = product_train[0,:].toarray() # Get the ratings from the training set ratings matrix\n",
    "    pref_vec = pref_vec.reshape(-1) + 1 # Add 1 to everything, so that items not purchased yet become equal to 1\n",
    "    pref_vec[pref_vec > 1] = 0 # Make everything already purchased zero\n",
    "    rec_vector = user_vecs[0,:].dot(item_vecs) # Get dot product of user vector and all item vectors\n",
    "    rec_vector = rec_vector.toarray()\n",
    "\n",
    "    # Scale this recommendation vector between 0 and 1\n",
    "    min_max = MinMaxScaler()\n",
    "    rec_vector_scaled = min_max.fit_transform(rec_vector.reshape(-1,1))[:,0] \n",
    "\n",
    "    recommend_vector = pref_vec*rec_vector_scaled\n",
    "    \n",
    "    product_idx = np.argsort(recommend_vector)[::-1][:num_items] # Sort the indices of the items into order \n",
    "    # of best recommendations\n",
    "    rec_list = [] # start empty list to store items\n",
    "    \n",
    "    for index in product_idx:\n",
    "        code = item_list[index]\n",
    "        rec_list.append([code, item_lookup.contentdes.loc[item_lookup.contentcode == code].iloc[0]]) \n",
    "        # Append our descriptions to the list\n",
    "        \n",
    "    codes = [item[0] for item in rec_list]\n",
    "    descriptions = [item[1] for item in rec_list]\n",
    "    final_frame = pd.DataFrame({'contentcode': codes, 'contentdes': descriptions}) # Create a dataframe \n",
    "    return final_frame[['contentcode', 'contentdes']] # Switch order of columns around\n"
   ]
  },
  {
   "cell_type": "markdown",
   "metadata": {},
   "source": [
    "### 'aabkmf32@google.com' 유저가 이미 클릭해본 contents"
   ]
  },
  {
   "cell_type": "code",
   "execution_count": 60,
   "metadata": {
    "collapsed": true
   },
   "outputs": [
    {
     "data": {
      "text/html": [
       "<div>\n",
       "<style scoped>\n",
       "    .dataframe tbody tr th:only-of-type {\n",
       "        vertical-align: middle;\n",
       "    }\n",
       "\n",
       "    .dataframe tbody tr th {\n",
       "        vertical-align: top;\n",
       "    }\n",
       "\n",
       "    .dataframe thead th {\n",
       "        text-align: right;\n",
       "    }\n",
       "</style>\n",
       "<table border=\"1\" class=\"dataframe\">\n",
       "  <thead>\n",
       "    <tr style=\"text-align: right;\">\n",
       "      <th></th>\n",
       "      <th>contentcode</th>\n",
       "      <th>contentdes</th>\n",
       "    </tr>\n",
       "  </thead>\n",
       "  <tbody>\n",
       "    <tr>\n",
       "      <th>1307</th>\n",
       "      <td>316104</td>\n",
       "      <td>보문사(서울)</td>\n",
       "    </tr>\n",
       "    <tr>\n",
       "      <th>1471</th>\n",
       "      <td>2396801</td>\n",
       "      <td>오랜미래신화미술관</td>\n",
       "    </tr>\n",
       "    <tr>\n",
       "      <th>1975</th>\n",
       "      <td>699587</td>\n",
       "      <td>천안 병천순대거리</td>\n",
       "    </tr>\n",
       "    <tr>\n",
       "      <th>2410</th>\n",
       "      <td>126372</td>\n",
       "      <td>능가사</td>\n",
       "    </tr>\n",
       "    <tr>\n",
       "      <th>2434</th>\n",
       "      <td>662234</td>\n",
       "      <td>순천전통야생차체험관</td>\n",
       "    </tr>\n",
       "    <tr>\n",
       "      <th>...</th>\n",
       "      <td>...</td>\n",
       "      <td>...</td>\n",
       "    </tr>\n",
       "    <tr>\n",
       "      <th>62309</th>\n",
       "      <td>2606232</td>\n",
       "      <td>호미반도 해안둘레길</td>\n",
       "    </tr>\n",
       "    <tr>\n",
       "      <th>77880</th>\n",
       "      <td>1599474</td>\n",
       "      <td>법인정사(김제)</td>\n",
       "    </tr>\n",
       "    <tr>\n",
       "      <th>77958</th>\n",
       "      <td>2611135</td>\n",
       "      <td>내원암 계곡</td>\n",
       "    </tr>\n",
       "    <tr>\n",
       "      <th>88595</th>\n",
       "      <td>134248</td>\n",
       "      <td>초가원가든</td>\n",
       "    </tr>\n",
       "    <tr>\n",
       "      <th>89110</th>\n",
       "      <td>129580</td>\n",
       "      <td>봉강사</td>\n",
       "    </tr>\n",
       "  </tbody>\n",
       "</table>\n",
       "<p>82 rows × 2 columns</p>\n",
       "</div>"
      ],
      "text/plain": [
       "       contentcode  contentdes\n",
       "1307        316104     보문사(서울)\n",
       "1471       2396801   오랜미래신화미술관\n",
       "1975        699587   천안 병천순대거리\n",
       "2410        126372         능가사\n",
       "2434        662234  순천전통야생차체험관\n",
       "...            ...         ...\n",
       "62309      2606232  호미반도 해안둘레길\n",
       "77880      1599474    법인정사(김제)\n",
       "77958      2611135      내원암 계곡\n",
       "88595       134248       초가원가든\n",
       "89110       129580         봉강사\n",
       "\n",
       "[82 rows x 2 columns]"
      ]
     },
     "execution_count": 60,
     "metadata": {},
     "output_type": "execute_result"
    }
   ],
   "source": [
    "get_items_purchased('aabkmf32@google.com', product_train, customers_arr, products_arr, item_lookup)"
   ]
  },
  {
   "cell_type": "markdown",
   "metadata": {},
   "source": [
    "### 'aabkmf32@google.com' 유저가 아직 클릭해본 적이 없으며, 추천할 만한 contents\n",
    " - 해당 리스트가 결국 화면에 나타나야 하는 것"
   ]
  },
  {
   "cell_type": "code",
   "execution_count": 61,
   "metadata": {
    "collapsed": true
   },
   "outputs": [
    {
     "data": {
      "text/html": [
       "<div>\n",
       "<style scoped>\n",
       "    .dataframe tbody tr th:only-of-type {\n",
       "        vertical-align: middle;\n",
       "    }\n",
       "\n",
       "    .dataframe tbody tr th {\n",
       "        vertical-align: top;\n",
       "    }\n",
       "\n",
       "    .dataframe thead th {\n",
       "        text-align: right;\n",
       "    }\n",
       "</style>\n",
       "<table border=\"1\" class=\"dataframe\">\n",
       "  <thead>\n",
       "    <tr style=\"text-align: right;\">\n",
       "      <th></th>\n",
       "      <th>contentcode</th>\n",
       "      <th>contentdes</th>\n",
       "    </tr>\n",
       "  </thead>\n",
       "  <tbody>\n",
       "    <tr>\n",
       "      <th>0</th>\n",
       "      <td>2589895</td>\n",
       "      <td>시간을 담다</td>\n",
       "    </tr>\n",
       "    <tr>\n",
       "      <th>1</th>\n",
       "      <td>1926273</td>\n",
       "      <td>미소레 커피</td>\n",
       "    </tr>\n",
       "    <tr>\n",
       "      <th>2</th>\n",
       "      <td>2460289</td>\n",
       "      <td>한국생명공학연구원</td>\n",
       "    </tr>\n",
       "    <tr>\n",
       "      <th>3</th>\n",
       "      <td>2581507</td>\n",
       "      <td>[착한가게] 장터수육</td>\n",
       "    </tr>\n",
       "    <tr>\n",
       "      <th>4</th>\n",
       "      <td>800214</td>\n",
       "      <td>월남 파병용사 만남의 장 (구, 베트남 참전용사 만남의 장)</td>\n",
       "    </tr>\n",
       "    <tr>\n",
       "      <th>5</th>\n",
       "      <td>1960045</td>\n",
       "      <td>청계서원(함안)</td>\n",
       "    </tr>\n",
       "    <tr>\n",
       "      <th>6</th>\n",
       "      <td>2668001</td>\n",
       "      <td>카페궁</td>\n",
       "    </tr>\n",
       "    <tr>\n",
       "      <th>7</th>\n",
       "      <td>404037</td>\n",
       "      <td>CK뉴욕바닷가재</td>\n",
       "    </tr>\n",
       "    <tr>\n",
       "      <th>8</th>\n",
       "      <td>822861</td>\n",
       "      <td>한강</td>\n",
       "    </tr>\n",
       "    <tr>\n",
       "      <th>9</th>\n",
       "      <td>127322</td>\n",
       "      <td>환벽당</td>\n",
       "    </tr>\n",
       "  </tbody>\n",
       "</table>\n",
       "</div>"
      ],
      "text/plain": [
       "   contentcode                         contentdes\n",
       "0      2589895                             시간을 담다\n",
       "1      1926273                             미소레 커피\n",
       "2      2460289                          한국생명공학연구원\n",
       "3      2581507                        [착한가게] 장터수육\n",
       "4       800214  월남 파병용사 만남의 장 (구, 베트남 참전용사 만남의 장)\n",
       "5      1960045                           청계서원(함안)\n",
       "6      2668001                                카페궁\n",
       "7       404037                           CK뉴욕바닷가재\n",
       "8       822861                                 한강\n",
       "9       127322                                환벽당"
      ]
     },
     "execution_count": 61,
     "metadata": {},
     "output_type": "execute_result"
    }
   ],
   "source": [
    "rec_items('aabkmf32@google.com', product_train, user_vecs, item_vecs, customers_arr, products_arr, item_lookup, num_items = 10)"
   ]
  },
  {
   "cell_type": "code",
   "execution_count": null,
   "metadata": {},
   "outputs": [],
   "source": []
  },
  {
   "cell_type": "code",
   "execution_count": null,
   "metadata": {},
   "outputs": [],
   "source": []
  },
  {
   "cell_type": "code",
   "execution_count": null,
   "metadata": {},
   "outputs": [],
   "source": []
  },
  {
   "cell_type": "code",
   "execution_count": null,
   "metadata": {},
   "outputs": [],
   "source": []
  },
  {
   "cell_type": "code",
   "execution_count": null,
   "metadata": {},
   "outputs": [],
   "source": []
  },
  {
   "cell_type": "code",
   "execution_count": null,
   "metadata": {},
   "outputs": [],
   "source": []
  },
  {
   "cell_type": "code",
   "execution_count": null,
   "metadata": {},
   "outputs": [],
   "source": []
  },
  {
   "cell_type": "code",
   "execution_count": null,
   "metadata": {},
   "outputs": [],
   "source": []
  },
  {
   "cell_type": "code",
   "execution_count": null,
   "metadata": {},
   "outputs": [],
   "source": []
  },
  {
   "cell_type": "code",
   "execution_count": null,
   "metadata": {},
   "outputs": [],
   "source": []
  },
  {
   "cell_type": "code",
   "execution_count": null,
   "metadata": {},
   "outputs": [],
   "source": []
  },
  {
   "cell_type": "code",
   "execution_count": null,
   "metadata": {},
   "outputs": [],
   "source": []
  },
  {
   "cell_type": "code",
   "execution_count": null,
   "metadata": {},
   "outputs": [],
   "source": []
  }
 ],
 "metadata": {
  "kernelspec": {
   "display_name": "Python 3",
   "language": "python",
   "name": "python3"
  },
  "language_info": {
   "codemirror_mode": {
    "name": "ipython",
    "version": 3
   },
   "file_extension": ".py",
   "mimetype": "text/x-python",
   "name": "python",
   "nbconvert_exporter": "python",
   "pygments_lexer": "ipython3",
   "version": "3.8.5"
  }
 },
 "nbformat": 4,
 "nbformat_minor": 4
}
